{
 "cells": [
  {
   "cell_type": "markdown",
   "metadata": {},
   "source": [
    "Option A\n",
    " * Transform the json profiles into feature vectors"
   ]
  },
  {
   "cell_type": "code",
   "execution_count": 82,
   "metadata": {},
   "outputs": [
    {
     "name": "stdout",
     "output_type": "stream",
     "text": [
      "<class 'list'>\n"
     ]
    }
   ],
   "source": [
    "import json\n",
    "import pandas as pd\n",
    "data = []\n",
    "with open('customersdata.json') as f:\n",
    "    for line in f:\n",
    "        data.append(json.loads(line))\n",
    "\n",
    "print(type(data))"
   ]
  },
  {
   "cell_type": "code",
   "execution_count": 3,
   "metadata": {},
   "outputs": [],
   "source": [
    "# Creating a dataframe object from listoftuples\n",
    "df1 = pd.DataFrame(data) "
   ]
  },
  {
   "cell_type": "code",
   "execution_count": 4,
   "metadata": {},
   "outputs": [
    {
     "data": {
      "text/plain": [
       "fraudulent\n",
       "False    107\n",
       "True      61\n",
       "dtype: int64"
      ]
     },
     "execution_count": 4,
     "metadata": {},
     "output_type": "execute_result"
    }
   ],
   "source": [
    "df1.groupby('fraudulent').size()"
   ]
  },
  {
   "cell_type": "code",
   "execution_count": 6,
   "metadata": {},
   "outputs": [],
   "source": [
    "finalres = pd.DataFrame()\n",
    "for i in range(0,len(df1)):\n",
    "    final=pd.DataFrame.from_dict([df1['customer'][i]])\n",
    "    finalres=finalres.append(final)"
   ]
  },
  {
   "cell_type": "code",
   "execution_count": 7,
   "metadata": {},
   "outputs": [],
   "source": [
    "dff=pd.DataFrame()\n",
    "dff['customerBillingAddress']=finalres['customerBillingAddress']\n",
    "dff['customerDevice']=finalres['customerDevice']\n",
    "dff['customerEmail']=finalres['customerEmail']\n",
    "dff['customerIPAddress']=finalres['customerIPAddress']\n",
    "dff['customerPhone']=finalres['customerPhone']"
   ]
  },
  {
   "cell_type": "code",
   "execution_count": 8,
   "metadata": {},
   "outputs": [],
   "source": [
    "list_fra=list(df1['fraudulent'])"
   ]
  },
  {
   "cell_type": "code",
   "execution_count": 9,
   "metadata": {},
   "outputs": [],
   "source": [
    "dff['fraudulent']=list_fra"
   ]
  },
  {
   "cell_type": "code",
   "execution_count": 10,
   "metadata": {},
   "outputs": [],
   "source": [
    "finalres1 = pd.DataFrame()\n",
    "for i in range(0,len(df1)):\n",
    "    final1=pd.DataFrame.from_dict([df1['orders'][i]])\n",
    "    finalres1=finalres1.append(final1)"
   ]
  },
  {
   "cell_type": "code",
   "execution_count": 11,
   "metadata": {},
   "outputs": [
    {
     "data": {
      "text/plain": [
       "[{'transactionId': 'a9lcj51r',\n",
       "  'orderId': 'vjbdvd',\n",
       "  'paymentMethodId': 'wt07xm68b',\n",
       "  'transactionAmount': 18,\n",
       "  'transactionFailed': False},\n",
       " {'transactionId': 'y4wcv03i',\n",
       "  'orderId': 'yp6x27',\n",
       "  'paymentMethodId': 'wt07xm68b',\n",
       "  'transactionAmount': 26,\n",
       "  'transactionFailed': False}]"
      ]
     },
     "execution_count": 11,
     "metadata": {},
     "output_type": "execute_result"
    }
   ],
   "source": [
    "df1['transactions'][0]"
   ]
  },
  {
   "cell_type": "code",
   "execution_count": 12,
   "metadata": {},
   "outputs": [
    {
     "data": {
      "text/plain": [
       "[{'orderId': 'vjbdvd',\n",
       "  'orderAmount': 18,\n",
       "  'orderState': 'pending',\n",
       "  'orderShippingAddress': '5493 Jones Islands\\nBrownside, CA 51896'},\n",
       " {'orderId': 'yp6x27',\n",
       "  'orderAmount': 26,\n",
       "  'orderState': 'fulfilled',\n",
       "  'orderShippingAddress': '5493 Jones Islands\\nBrownside, CA 51896'}]"
      ]
     },
     "execution_count": 12,
     "metadata": {},
     "output_type": "execute_result"
    }
   ],
   "source": [
    "df1['orders'][0]"
   ]
  },
  {
   "cell_type": "code",
   "execution_count": 13,
   "metadata": {},
   "outputs": [
    {
     "data": {
      "text/plain": [
       "{'customerEmail': 'josephhoward@yahoo.com',\n",
       " 'customerPhone': '400-108-5415',\n",
       " 'customerDevice': 'yyeiaxpltf82440jnb3v',\n",
       " 'customerIPAddress': '8.129.104.40',\n",
       " 'customerBillingAddress': '5493 Jones Islands\\nBrownside, CA 51896'}"
      ]
     },
     "execution_count": 13,
     "metadata": {},
     "output_type": "execute_result"
    }
   ],
   "source": [
    "df1['customer'][0]"
   ]
  },
  {
   "cell_type": "code",
   "execution_count": 14,
   "metadata": {},
   "outputs": [],
   "source": [
    " df100 = pd.DataFrame(df1['orders'][0]) "
   ]
  },
  {
   "cell_type": "code",
   "execution_count": 15,
   "metadata": {},
   "outputs": [
    {
     "data": {
      "text/html": [
       "<div>\n",
       "<style scoped>\n",
       "    .dataframe tbody tr th:only-of-type {\n",
       "        vertical-align: middle;\n",
       "    }\n",
       "\n",
       "    .dataframe tbody tr th {\n",
       "        vertical-align: top;\n",
       "    }\n",
       "\n",
       "    .dataframe thead th {\n",
       "        text-align: right;\n",
       "    }\n",
       "</style>\n",
       "<table border=\"1\" class=\"dataframe\">\n",
       "  <thead>\n",
       "    <tr style=\"text-align: right;\">\n",
       "      <th></th>\n",
       "      <th>orderAmount</th>\n",
       "      <th>orderId</th>\n",
       "      <th>orderShippingAddress</th>\n",
       "      <th>orderState</th>\n",
       "    </tr>\n",
       "  </thead>\n",
       "  <tbody>\n",
       "    <tr>\n",
       "      <th>0</th>\n",
       "      <td>18</td>\n",
       "      <td>vjbdvd</td>\n",
       "      <td>5493 Jones Islands\\nBrownside, CA 51896</td>\n",
       "      <td>pending</td>\n",
       "    </tr>\n",
       "    <tr>\n",
       "      <th>1</th>\n",
       "      <td>26</td>\n",
       "      <td>yp6x27</td>\n",
       "      <td>5493 Jones Islands\\nBrownside, CA 51896</td>\n",
       "      <td>fulfilled</td>\n",
       "    </tr>\n",
       "  </tbody>\n",
       "</table>\n",
       "</div>"
      ],
      "text/plain": [
       "   orderAmount orderId                     orderShippingAddress orderState\n",
       "0           18  vjbdvd  5493 Jones Islands\\nBrownside, CA 51896    pending\n",
       "1           26  yp6x27  5493 Jones Islands\\nBrownside, CA 51896  fulfilled"
      ]
     },
     "execution_count": 15,
     "metadata": {},
     "output_type": "execute_result"
    }
   ],
   "source": [
    "df100"
   ]
  },
  {
   "cell_type": "code",
   "execution_count": 16,
   "metadata": {},
   "outputs": [],
   "source": [
    "finalres2=pd.DataFrame()\n",
    "for i in range(0,len(df1)):\n",
    "    final2=pd.DataFrame(df1['orders'][i])\n",
    "    finalres2=finalres2.append(final2)"
   ]
  },
  {
   "cell_type": "code",
   "execution_count": 17,
   "metadata": {},
   "outputs": [],
   "source": [
    "finalres3=pd.DataFrame()\n",
    "for i in range(0,len(df1)):\n",
    "    final3=pd.DataFrame(df1['transactions'][i])\n",
    "    finalres3=finalres3.append(final3)"
   ]
  },
  {
   "cell_type": "code",
   "execution_count": 18,
   "metadata": {},
   "outputs": [],
   "source": [
    "finalres3=finalres3.reset_index()"
   ]
  },
  {
   "cell_type": "code",
   "execution_count": 19,
   "metadata": {},
   "outputs": [],
   "source": [
    "del finalres3['index']"
   ]
  },
  {
   "cell_type": "code",
   "execution_count": 20,
   "metadata": {},
   "outputs": [],
   "source": [
    "finalres2=finalres2.reset_index()"
   ]
  },
  {
   "cell_type": "code",
   "execution_count": 21,
   "metadata": {},
   "outputs": [],
   "source": [
    "del finalres2['index']"
   ]
  },
  {
   "cell_type": "code",
   "execution_count": 22,
   "metadata": {},
   "outputs": [],
   "source": [
    "k=-1\n",
    "res=pd.DataFrame()\n",
    "for i in range(0,len(finalres3)):\n",
    "    for j in range(0,len(finalres2)):\n",
    "        if finalres3.loc[i]['orderId']==finalres2.loc[j]['orderId']:\n",
    "            lst=[]\n",
    "            k=k+1\n",
    "            lst.append(finalres3.loc[i]['orderId'])\n",
    "            lst.append(finalres2.loc[j]['orderAmount'])\n",
    "            lst.append(finalres2.loc[j]['orderState'])\n",
    "            lst.append(finalres2.loc[j]['orderShippingAddress'])\n",
    "            lst.append(finalres3.loc[i]['transactionId'])\n",
    "            lst.append(finalres3.loc[i]['paymentMethodId'])\n",
    "            lst.append(finalres3.loc[i]['transactionAmount'])\n",
    "            lst.append(finalres3.loc[i]['transactionFailed'])\n",
    "            res[k]=lst            "
   ]
  },
  {
   "cell_type": "code",
   "execution_count": 24,
   "metadata": {},
   "outputs": [],
   "source": [
    "res=res.transpose()"
   ]
  },
  {
   "cell_type": "code",
   "execution_count": 25,
   "metadata": {},
   "outputs": [],
   "source": [
    "res.rename(columns={0:'orderId',1:'orderAmount',2:'orderState',3:'orderShippingAddress',4:'transactionId',5:'paymentMethodId',6:'transactionAmount',7:'transactionFailed'}, \n",
    "                 inplace=True)"
   ]
  },
  {
   "cell_type": "code",
   "execution_count": 27,
   "metadata": {},
   "outputs": [],
   "source": [
    "dff=dff.reset_index()"
   ]
  },
  {
   "cell_type": "code",
   "execution_count": 28,
   "metadata": {},
   "outputs": [],
   "source": [
    "del dff['index']"
   ]
  },
  {
   "cell_type": "code",
   "execution_count": 40,
   "metadata": {},
   "outputs": [],
   "source": [
    "finalres4=pd.DataFrame()\n",
    "for i in range(0,len(df1)):\n",
    "    final4=pd.DataFrame(df1['paymentMethods'][i])\n",
    "    finalres4=finalres4.append(final4)"
   ]
  },
  {
   "cell_type": "code",
   "execution_count": 44,
   "metadata": {},
   "outputs": [],
   "source": [
    "k=-1\n",
    "res1=pd.DataFrame()\n",
    "for i in range(0,len(res)):\n",
    "    for j in range(0,len(finalres4)):\n",
    "        if finalres4.loc[j]['paymentMethodId']==res.loc[i]['paymentMethodId']:\n",
    "            lst=[]\n",
    "            k=k+1\n",
    "            lst.append(res.loc[i]['paymentMethodId'])\n",
    "            lst.append(finalres4.loc[j]['paymentMethodId'])\n",
    "            lst.append(finalres4.loc[j]['paymentMethodRegistrationFailure'])\n",
    "            lst.append(finalres4.loc[j]['paymentMethodType'])\n",
    "            lst.append(finalres4.loc[j]['paymentMethodProvider'])\n",
    "            lst.append(finalres4.loc[j]['paymentMethodIssuer'])\n",
    "            lst.append(res.loc[i]['orderId'])\n",
    "            lst.append(res.loc[i]['transactionAmount'])\n",
    "            lst.append(res.loc[i]['transactionFailed']) \n",
    "            res1[k]=lst"
   ]
  },
  {
   "cell_type": "code",
   "execution_count": 41,
   "metadata": {},
   "outputs": [],
   "source": [
    "finalres4=finalres4.reset_index()"
   ]
  },
  {
   "cell_type": "code",
   "execution_count": 42,
   "metadata": {},
   "outputs": [
    {
     "data": {
      "text/plain": [
       "5"
      ]
     },
     "execution_count": 42,
     "metadata": {},
     "output_type": "execute_result"
    }
   ],
   "source": [
    "len(data[10]['orders'])"
   ]
  },
  {
   "cell_type": "code",
   "execution_count": 43,
   "metadata": {},
   "outputs": [],
   "source": [
    "del finalres4['index']"
   ]
  },
  {
   "cell_type": "code",
   "execution_count": 45,
   "metadata": {},
   "outputs": [],
   "source": [
    "res1=res1.transpose()"
   ]
  },
  {
   "cell_type": "code",
   "execution_count": 46,
   "metadata": {},
   "outputs": [],
   "source": [
    "res1.rename(columns={0:'paymentMethodId',1:'paymentMethodId',2:'paymentMethodRegistrationFailure',3:'paymentMethodType',4:'paymentMethodProvider',5:'paymentMethodIssuer',6:'orderId',7:'transactionAmount',8:'transactionFailed'}, \n",
    "                 inplace=True)"
   ]
  },
  {
   "cell_type": "code",
   "execution_count": 47,
   "metadata": {},
   "outputs": [],
   "source": [
    "result_final = pd.concat([res,res1], axis=1, sort=False)"
   ]
  },
  {
   "cell_type": "code",
   "execution_count": 49,
   "metadata": {},
   "outputs": [],
   "source": [
    "def getDuplicateColumns(df):\n",
    "    duplicateColumnNames = set()\n",
    "    # Iterate over all the columns in dataframe\n",
    "    for x in range(df.shape[1]):\n",
    "        # Select column at xth index.\n",
    "        col = df.iloc[:, x]\n",
    "        # Iterate over all the columns in DataFrame from (x+1)th index till end\n",
    "        for y in range(x + 1, df.shape[1]):\n",
    "            # Select column at yth index.\n",
    "            otherCol = df.iloc[:, y]\n",
    "            # Check if two columns at x 7 y index are equal\n",
    "            if col.equals(otherCol):\n",
    "                duplicateColumnNames.add(df.columns.values[y])\n",
    " \n",
    "    return list(duplicateColumnNames)"
   ]
  },
  {
   "cell_type": "code",
   "execution_count": 50,
   "metadata": {},
   "outputs": [
    {
     "name": "stdout",
     "output_type": "stream",
     "text": [
      "Duplicate Columns are as follows\n",
      "Column name :  orderId\n",
      "Column name :  transactionAmount\n",
      "Column name :  paymentMethodId\n",
      "Column name :  transactionFailed\n"
     ]
    }
   ],
   "source": [
    "duplicateColumnNames = getDuplicateColumns(result_final)\n",
    " \n",
    "print('Duplicate Columns are as follows')\n",
    "for col in duplicateColumnNames:\n",
    "    print('Column name : ', col)"
   ]
  },
  {
   "cell_type": "code",
   "execution_count": 53,
   "metadata": {},
   "outputs": [
    {
     "data": {
      "text/plain": [
       "5"
      ]
     },
     "execution_count": 53,
     "metadata": {},
     "output_type": "execute_result"
    }
   ],
   "source": [
    "len(data[10]['orders'])"
   ]
  },
  {
   "cell_type": "code",
   "execution_count": 54,
   "metadata": {},
   "outputs": [
    {
     "data": {
      "text/plain": [
       "6"
      ]
     },
     "execution_count": 54,
     "metadata": {},
     "output_type": "execute_result"
    }
   ],
   "source": [
    "len(data[10]['transactions'])"
   ]
  },
  {
   "cell_type": "code",
   "execution_count": 55,
   "metadata": {},
   "outputs": [],
   "source": [
    "val=max(len(data[0]['orders']),len(data[0]['transactions']))"
   ]
  },
  {
   "cell_type": "code",
   "execution_count": 56,
   "metadata": {},
   "outputs": [
    {
     "data": {
      "text/plain": [
       "2"
      ]
     },
     "execution_count": 56,
     "metadata": {},
     "output_type": "execute_result"
    }
   ],
   "source": [
    "val"
   ]
  },
  {
   "cell_type": "code",
   "execution_count": 57,
   "metadata": {},
   "outputs": [],
   "source": [
    "dff_copy100=dff.copy()"
   ]
  },
  {
   "cell_type": "code",
   "execution_count": 59,
   "metadata": {},
   "outputs": [],
   "source": [
    "dff=dff.reset_index()\n",
    "del dff['index']"
   ]
  },
  {
   "cell_type": "code",
   "execution_count": 60,
   "metadata": {},
   "outputs": [],
   "source": [
    "kl=pd.DataFrame()\n",
    "for i in range(0,len(data)):\n",
    "    val=max(len(data[i]['orders']),len(data[i]['transactions']))\n",
    "    klm=dff.loc[i]\n",
    "    for d in range(0,val):\n",
    "        kl=kl.append(klm)"
   ]
  },
  {
   "cell_type": "code",
   "execution_count": 65,
   "metadata": {},
   "outputs": [],
   "source": [
    "kl=kl.reset_index()\n",
    "del kl['index']"
   ]
  },
  {
   "cell_type": "code",
   "execution_count": 67,
   "metadata": {},
   "outputs": [],
   "source": [
    "result_final = pd.concat([result_final,kl], axis=1, sort=False)"
   ]
  },
  {
   "cell_type": "code",
   "execution_count": 72,
   "metadata": {},
   "outputs": [],
   "source": [
    "result_final.to_csv('file.csv',index=False)"
   ]
  },
  {
   "cell_type": "markdown",
   "metadata": {},
   "source": [
    "*Construct a model to predict if a customer is fraudulent based on their profile."
   ]
  },
  {
   "cell_type": "code",
   "execution_count": 73,
   "metadata": {},
   "outputs": [
    {
     "data": {
      "text/html": [
       "<div>\n",
       "<style scoped>\n",
       "    .dataframe tbody tr th:only-of-type {\n",
       "        vertical-align: middle;\n",
       "    }\n",
       "\n",
       "    .dataframe tbody tr th {\n",
       "        vertical-align: top;\n",
       "    }\n",
       "\n",
       "    .dataframe thead th {\n",
       "        text-align: right;\n",
       "    }\n",
       "</style>\n",
       "<table border=\"1\" class=\"dataframe\">\n",
       "  <thead>\n",
       "    <tr style=\"text-align: right;\">\n",
       "      <th></th>\n",
       "      <th>fraudulent</th>\n",
       "      <th>fraudulent</th>\n",
       "    </tr>\n",
       "  </thead>\n",
       "  <tbody>\n",
       "    <tr>\n",
       "      <th>count</th>\n",
       "      <td>623.000000</td>\n",
       "      <td>623.000000</td>\n",
       "    </tr>\n",
       "    <tr>\n",
       "      <th>mean</th>\n",
       "      <td>0.412520</td>\n",
       "      <td>0.412520</td>\n",
       "    </tr>\n",
       "    <tr>\n",
       "      <th>std</th>\n",
       "      <td>0.492683</td>\n",
       "      <td>0.492683</td>\n",
       "    </tr>\n",
       "    <tr>\n",
       "      <th>min</th>\n",
       "      <td>0.000000</td>\n",
       "      <td>0.000000</td>\n",
       "    </tr>\n",
       "    <tr>\n",
       "      <th>25%</th>\n",
       "      <td>0.000000</td>\n",
       "      <td>0.000000</td>\n",
       "    </tr>\n",
       "    <tr>\n",
       "      <th>50%</th>\n",
       "      <td>0.000000</td>\n",
       "      <td>0.000000</td>\n",
       "    </tr>\n",
       "    <tr>\n",
       "      <th>75%</th>\n",
       "      <td>1.000000</td>\n",
       "      <td>1.000000</td>\n",
       "    </tr>\n",
       "    <tr>\n",
       "      <th>max</th>\n",
       "      <td>1.000000</td>\n",
       "      <td>1.000000</td>\n",
       "    </tr>\n",
       "  </tbody>\n",
       "</table>\n",
       "</div>"
      ],
      "text/plain": [
       "       fraudulent  fraudulent\n",
       "count  623.000000  623.000000\n",
       "mean     0.412520    0.412520\n",
       "std      0.492683    0.492683\n",
       "min      0.000000    0.000000\n",
       "25%      0.000000    0.000000\n",
       "50%      0.000000    0.000000\n",
       "75%      1.000000    1.000000\n",
       "max      1.000000    1.000000"
      ]
     },
     "execution_count": 73,
     "metadata": {},
     "output_type": "execute_result"
    }
   ],
   "source": [
    "result_final.describe()"
   ]
  },
  {
   "cell_type": "code",
   "execution_count": 203,
   "metadata": {},
   "outputs": [],
   "source": [
    "df=result_final.copy()"
   ]
  },
  {
   "cell_type": "code",
   "execution_count": 118,
   "metadata": {},
   "outputs": [
    {
     "data": {
      "text/plain": [
       "count           623\n",
       "unique            3\n",
       "top       fulfilled\n",
       "freq            516\n",
       "Name: orderState, dtype: object"
      ]
     },
     "execution_count": 118,
     "metadata": {},
     "output_type": "execute_result"
    }
   ],
   "source": [
    "df.orderState.describe()"
   ]
  },
  {
   "cell_type": "code",
   "execution_count": 123,
   "metadata": {},
   "outputs": [
    {
     "data": {
      "text/html": [
       "<div>\n",
       "<style scoped>\n",
       "    .dataframe tbody tr th:only-of-type {\n",
       "        vertical-align: middle;\n",
       "    }\n",
       "\n",
       "    .dataframe tbody tr th {\n",
       "        vertical-align: top;\n",
       "    }\n",
       "\n",
       "    .dataframe thead th {\n",
       "        text-align: right;\n",
       "    }\n",
       "</style>\n",
       "<table border=\"1\" class=\"dataframe\">\n",
       "  <thead>\n",
       "    <tr style=\"text-align: right;\">\n",
       "      <th></th>\n",
       "      <th>paymentMethodId</th>\n",
       "      <th>paymentMethodId</th>\n",
       "      <th>paymentMethodId</th>\n",
       "    </tr>\n",
       "  </thead>\n",
       "  <tbody>\n",
       "    <tr>\n",
       "      <th>count</th>\n",
       "      <td>623</td>\n",
       "      <td>623</td>\n",
       "      <td>623</td>\n",
       "    </tr>\n",
       "    <tr>\n",
       "      <th>unique</th>\n",
       "      <td>237</td>\n",
       "      <td>237</td>\n",
       "      <td>237</td>\n",
       "    </tr>\n",
       "    <tr>\n",
       "      <th>top</th>\n",
       "      <td>4nf29mjz1</td>\n",
       "      <td>4nf29mjz1</td>\n",
       "      <td>4nf29mjz1</td>\n",
       "    </tr>\n",
       "    <tr>\n",
       "      <th>freq</th>\n",
       "      <td>15</td>\n",
       "      <td>15</td>\n",
       "      <td>15</td>\n",
       "    </tr>\n",
       "  </tbody>\n",
       "</table>\n",
       "</div>"
      ],
      "text/plain": [
       "       paymentMethodId paymentMethodId paymentMethodId\n",
       "count              623             623             623\n",
       "unique             237             237             237\n",
       "top          4nf29mjz1       4nf29mjz1       4nf29mjz1\n",
       "freq                15              15              15"
      ]
     },
     "execution_count": 123,
     "metadata": {},
     "output_type": "execute_result"
    }
   ],
   "source": [
    "df.paymentMethodId.describe()"
   ]
  },
  {
   "cell_type": "code",
   "execution_count": 124,
   "metadata": {},
   "outputs": [
    {
     "data": {
      "text/html": [
       "<div>\n",
       "<style scoped>\n",
       "    .dataframe tbody tr th:only-of-type {\n",
       "        vertical-align: middle;\n",
       "    }\n",
       "\n",
       "    .dataframe tbody tr th {\n",
       "        vertical-align: top;\n",
       "    }\n",
       "\n",
       "    .dataframe thead th {\n",
       "        text-align: right;\n",
       "    }\n",
       "</style>\n",
       "<table border=\"1\" class=\"dataframe\">\n",
       "  <thead>\n",
       "    <tr style=\"text-align: right;\">\n",
       "      <th></th>\n",
       "      <th>transactionFailed</th>\n",
       "      <th>transactionFailed</th>\n",
       "    </tr>\n",
       "  </thead>\n",
       "  <tbody>\n",
       "    <tr>\n",
       "      <th>count</th>\n",
       "      <td>623</td>\n",
       "      <td>623</td>\n",
       "    </tr>\n",
       "    <tr>\n",
       "      <th>unique</th>\n",
       "      <td>2</td>\n",
       "      <td>2</td>\n",
       "    </tr>\n",
       "    <tr>\n",
       "      <th>top</th>\n",
       "      <td>False</td>\n",
       "      <td>False</td>\n",
       "    </tr>\n",
       "    <tr>\n",
       "      <th>freq</th>\n",
       "      <td>455</td>\n",
       "      <td>455</td>\n",
       "    </tr>\n",
       "  </tbody>\n",
       "</table>\n",
       "</div>"
      ],
      "text/plain": [
       "       transactionFailed transactionFailed\n",
       "count                623               623\n",
       "unique                 2                 2\n",
       "top                False             False\n",
       "freq                 455               455"
      ]
     },
     "execution_count": 124,
     "metadata": {},
     "output_type": "execute_result"
    }
   ],
   "source": [
    "df.transactionFailed.describe()"
   ]
  },
  {
   "cell_type": "code",
   "execution_count": 125,
   "metadata": {},
   "outputs": [
    {
     "data": {
      "text/html": [
       "<div>\n",
       "<style scoped>\n",
       "    .dataframe tbody tr th:only-of-type {\n",
       "        vertical-align: middle;\n",
       "    }\n",
       "\n",
       "    .dataframe tbody tr th {\n",
       "        vertical-align: top;\n",
       "    }\n",
       "\n",
       "    .dataframe thead th {\n",
       "        text-align: right;\n",
       "    }\n",
       "</style>\n",
       "<table border=\"1\" class=\"dataframe\">\n",
       "  <thead>\n",
       "    <tr style=\"text-align: right;\">\n",
       "      <th></th>\n",
       "      <th>fraudulent</th>\n",
       "      <th>fraudulent</th>\n",
       "    </tr>\n",
       "  </thead>\n",
       "  <tbody>\n",
       "    <tr>\n",
       "      <th>count</th>\n",
       "      <td>623.000000</td>\n",
       "      <td>623.000000</td>\n",
       "    </tr>\n",
       "    <tr>\n",
       "      <th>mean</th>\n",
       "      <td>0.412520</td>\n",
       "      <td>0.412520</td>\n",
       "    </tr>\n",
       "    <tr>\n",
       "      <th>std</th>\n",
       "      <td>0.492683</td>\n",
       "      <td>0.492683</td>\n",
       "    </tr>\n",
       "    <tr>\n",
       "      <th>min</th>\n",
       "      <td>0.000000</td>\n",
       "      <td>0.000000</td>\n",
       "    </tr>\n",
       "    <tr>\n",
       "      <th>25%</th>\n",
       "      <td>0.000000</td>\n",
       "      <td>0.000000</td>\n",
       "    </tr>\n",
       "    <tr>\n",
       "      <th>50%</th>\n",
       "      <td>0.000000</td>\n",
       "      <td>0.000000</td>\n",
       "    </tr>\n",
       "    <tr>\n",
       "      <th>75%</th>\n",
       "      <td>1.000000</td>\n",
       "      <td>1.000000</td>\n",
       "    </tr>\n",
       "    <tr>\n",
       "      <th>max</th>\n",
       "      <td>1.000000</td>\n",
       "      <td>1.000000</td>\n",
       "    </tr>\n",
       "  </tbody>\n",
       "</table>\n",
       "</div>"
      ],
      "text/plain": [
       "       fraudulent  fraudulent\n",
       "count  623.000000  623.000000\n",
       "mean     0.412520    0.412520\n",
       "std      0.492683    0.492683\n",
       "min      0.000000    0.000000\n",
       "25%      0.000000    0.000000\n",
       "50%      0.000000    0.000000\n",
       "75%      1.000000    1.000000\n",
       "max      1.000000    1.000000"
      ]
     },
     "execution_count": 125,
     "metadata": {},
     "output_type": "execute_result"
    }
   ],
   "source": [
    "df.fraudulent.describe()"
   ]
  },
  {
   "cell_type": "code",
   "execution_count": 126,
   "metadata": {},
   "outputs": [
    {
     "data": {
      "text/plain": [
       "Index(['orderId', 'orderAmount', 'orderState', 'orderShippingAddress',\n",
       "       'transactionId', 'paymentMethodId', 'transactionAmount',\n",
       "       'transactionFailed', 'paymentMethodId', 'paymentMethodId',\n",
       "       'paymentMethodRegistrationFailure', 'paymentMethodType',\n",
       "       'paymentMethodProvider', 'paymentMethodIssuer', 'orderId',\n",
       "       'transactionAmount', 'transactionFailed', 'customerBillingAddress',\n",
       "       'customerDevice', 'customerEmail', 'customerIPAddress', 'customerPhone',\n",
       "       'fraudulent', 'customerBillingAddress', 'customerDevice',\n",
       "       'customerEmail', 'customerIPAddress', 'customerPhone', 'fraudulent'],\n",
       "      dtype='object')"
      ]
     },
     "execution_count": 126,
     "metadata": {},
     "output_type": "execute_result"
    }
   ],
   "source": [
    "df.columns"
   ]
  },
  {
   "cell_type": "code",
   "execution_count": 224,
   "metadata": {},
   "outputs": [
    {
     "data": {
      "text/plain": [
       "count              623\n",
       "unique              10\n",
       "top       JCB 16 digit\n",
       "freq               118\n",
       "Name: paymentMethodProvider, dtype: object"
      ]
     },
     "execution_count": 224,
     "metadata": {},
     "output_type": "execute_result"
    }
   ],
   "source": [
    "df.paymentMethodProvider.describe()"
   ]
  },
  {
   "cell_type": "code",
   "execution_count": 172,
   "metadata": {},
   "outputs": [],
   "source": [
    "dff1=pd.DataFrame()\n",
    "dff1['orderAmount']=df['orderAmount']"
   ]
  },
  {
   "cell_type": "code",
   "execution_count": 181,
   "metadata": {},
   "outputs": [],
   "source": [
    "dff1['orderState']=df['orderState'].replace(['pending','fulfilled','failed'], [0,1,2])"
   ]
  },
  {
   "cell_type": "code",
   "execution_count": 216,
   "metadata": {},
   "outputs": [],
   "source": [
    "dff1['transactionFailed']=df['transactionFailed']"
   ]
  },
  {
   "cell_type": "code",
   "execution_count": 205,
   "metadata": {},
   "outputs": [
    {
     "data": {
      "text/plain": [
       "'transactionFailed'"
      ]
     },
     "execution_count": 205,
     "metadata": {},
     "output_type": "execute_result"
    }
   ],
   "source": [
    "df.columns[7]"
   ]
  },
  {
   "cell_type": "code",
   "execution_count": 208,
   "metadata": {},
   "outputs": [],
   "source": [
    "df = df.loc[:,~df.columns.duplicated()]"
   ]
  },
  {
   "cell_type": "code",
   "execution_count": 218,
   "metadata": {},
   "outputs": [],
   "source": [
    "dff1['transactionAmount']=df['transactionAmount']"
   ]
  },
  {
   "cell_type": "code",
   "execution_count": 220,
   "metadata": {},
   "outputs": [],
   "source": [
    "dff1['paymentMethodRegistrationFailure']=df['paymentMethodRegistrationFailure']"
   ]
  },
  {
   "cell_type": "code",
   "execution_count": 225,
   "metadata": {},
   "outputs": [
    {
     "data": {
      "text/plain": [
       "array(['JCB 16 digit', 'American Express', 'VISA 16 digit', 'Discover',\n",
       "       'Voyager', 'VISA 13 digit', 'Maestro', 'Mastercard',\n",
       "       'Diners Club / Carte Blanche', 'JCB 15 digit'], dtype=object)"
      ]
     },
     "execution_count": 225,
     "metadata": {},
     "output_type": "execute_result"
    }
   ],
   "source": [
    "df.paymentMethodProvider.unique()"
   ]
  },
  {
   "cell_type": "code",
   "execution_count": 246,
   "metadata": {},
   "outputs": [],
   "source": [
    "dff1['paymentMethodType']=df['paymentMethodType'].replace(['card','bitcoin','apple pay','paypal'], [0,1,2,3])"
   ]
  },
  {
   "cell_type": "code",
   "execution_count": 226,
   "metadata": {},
   "outputs": [],
   "source": [
    "dff1['paymentMethodProvider']=df['paymentMethodProvider'].replace(['JCB 16 digit', 'American Express', 'VISA 16 digit', 'Discover',\n",
    "       'Voyager', 'VISA 13 digit', 'Maestro', 'Mastercard',\n",
    "       'Diners Club / Carte Blanche', 'JCB 15 digit'], [0,1,2,3,4,5,6,7,8,9])"
   ]
  },
  {
   "cell_type": "code",
   "execution_count": 227,
   "metadata": {},
   "outputs": [
    {
     "data": {
      "text/plain": [
       "count                   623\n",
       "unique                   19\n",
       "top       Her Majesty Trust\n",
       "freq                     66\n",
       "Name: paymentMethodIssuer, dtype: object"
      ]
     },
     "execution_count": 227,
     "metadata": {},
     "output_type": "execute_result"
    }
   ],
   "source": [
    "df.paymentMethodIssuer.describe()"
   ]
  },
  {
   "cell_type": "code",
   "execution_count": 228,
   "metadata": {},
   "outputs": [
    {
     "data": {
      "text/plain": [
       "array(['Citizens First Banks', 'Bastion Banks', 'Solace Banks',\n",
       "       'His Majesty Bank Corp.', 'Grand Credit Corporation', 'p', 'x',\n",
       "       'Bulwark Trust Corp.', 'Her Majesty Trust', 'c', 'Vertex Bancorp',\n",
       "       'a', 'Fountain Financial Inc.', 'Rose Bancshares', 'r', 'B', 'e',\n",
       "       'n', 'o'], dtype=object)"
      ]
     },
     "execution_count": 228,
     "metadata": {},
     "output_type": "execute_result"
    }
   ],
   "source": [
    "df.paymentMethodIssuer.unique()"
   ]
  },
  {
   "cell_type": "code",
   "execution_count": 229,
   "metadata": {},
   "outputs": [],
   "source": [
    "dff1['paymentMethodIssuer']=df['paymentMethodIssuer'].replace(['Citizens First Banks', 'Bastion Banks', 'Solace Banks',\n",
    "       'His Majesty Bank Corp.', 'Grand Credit Corporation', 'p', 'x',\n",
    "       'Bulwark Trust Corp.', 'Her Majesty Trust', 'c', 'Vertex Bancorp',\n",
    "       'a', 'Fountain Financial Inc.', 'Rose Bancshares', 'r', 'B', 'e',\n",
    "       'n', 'o'], [0,1,2,3,4,5,6,7,8,9,10,11,12,13,14,15,16,17,18])"
   ]
  },
  {
   "cell_type": "code",
   "execution_count": 231,
   "metadata": {},
   "outputs": [],
   "source": [
    "dff1['fraudulent']=df['fraudulent']\n",
    "dff1['transactionFailed']=dff1['transactionFailed'].replace([True,False],[1,0])\n",
    "dff1['paymentMethodRegistrationFailure']=dff1['paymentMethodRegistrationFailure'].replace([True,False],[1,0])"
   ]
  },
  {
   "cell_type": "code",
   "execution_count": 304,
   "metadata": {},
   "outputs": [],
   "source": [
    "import pandas as pd \n",
    "import numpy as np \n",
    "import matplotlib.pyplot as plt"
   ]
  },
  {
   "cell_type": "code",
   "execution_count": 305,
   "metadata": {},
   "outputs": [],
   "source": [
    "x = dff1.iloc[:, [0,1,2,3,4,5,6,7]].values"
   ]
  },
  {
   "cell_type": "code",
   "execution_count": 306,
   "metadata": {},
   "outputs": [],
   "source": [
    "y = dff1.iloc[:, -1].values "
   ]
  },
  {
   "cell_type": "code",
   "execution_count": 307,
   "metadata": {},
   "outputs": [],
   "source": [
    "from sklearn.model_selection import train_test_split \n",
    "xtrain, xtest, ytrain, ytest = train_test_split( \n",
    "        x, y, test_size = 0.30, random_state = 0)"
   ]
  },
  {
   "cell_type": "code",
   "execution_count": 308,
   "metadata": {},
   "outputs": [
    {
     "name": "stdout",
     "output_type": "stream",
     "text": [
      "[[-0.16133718 -0.07517327  1.57733953 -0.16133718 -0.37598039 -0.49269049\n",
      "   0.04923121  1.56071309]\n",
      " [-0.11568954 -0.07517327 -0.63397891 -0.11568954 -0.37598039 -0.49269049\n",
      "   1.75278725  1.34605349]\n",
      " [ 0.06690101 -0.07517327 -0.63397891  0.06690101  2.65971316 -0.49269049\n",
      "   0.38994241  1.34605349]\n",
      " [-0.84605175  2.26593716 -0.63397891 -0.84605175 -0.37598039 -0.49269049\n",
      "   1.75278725  1.34605349]\n",
      " [-1.07428994 -0.07517327  1.57733953 -1.07428994 -0.37598039  2.74569725\n",
      "  -0.29148     0.27275554]\n",
      " [-0.93734703 -0.07517327  1.57733953 -0.93734703 -0.37598039 -0.49269049\n",
      "   1.41207604 -1.4445212 ]\n",
      " [ 0.34078684 -0.07517327 -0.63397891  0.34078684 -0.37598039 -0.49269049\n",
      "  -0.63219121  1.34605349]\n",
      " [-0.25263246 -0.07517327 -0.63397891 -0.25263246 -0.37598039 -0.49269049\n",
      "   1.75278725  1.1313939 ]\n",
      " [ 1.02550141 -0.07517327  1.57733953  1.02550141 -0.37598039  0.58677209\n",
      "  -1.31361362  1.1313939 ]\n",
      " [-0.93734703 -0.07517327 -0.63397891 -0.93734703 -0.37598039 -0.49269049\n",
      "   0.04923121 -0.15656365]]\n"
     ]
    },
    {
     "name": "stderr",
     "output_type": "stream",
     "text": [
      "C:\\Users\\WELCOME\\Anaconda3\\lib\\site-packages\\sklearn\\utils\\validation.py:595: DataConversionWarning: Data with input dtype object was converted to float64 by StandardScaler.\n",
      "  warnings.warn(msg, DataConversionWarning)\n",
      "C:\\Users\\WELCOME\\Anaconda3\\lib\\site-packages\\sklearn\\utils\\validation.py:595: DataConversionWarning: Data with input dtype object was converted to float64 by StandardScaler.\n",
      "  warnings.warn(msg, DataConversionWarning)\n",
      "C:\\Users\\WELCOME\\Anaconda3\\lib\\site-packages\\sklearn\\utils\\validation.py:595: DataConversionWarning: Data with input dtype object was converted to float64 by StandardScaler.\n",
      "  warnings.warn(msg, DataConversionWarning)\n"
     ]
    }
   ],
   "source": [
    "from sklearn.preprocessing import StandardScaler \n",
    "sc_x = StandardScaler() \n",
    "xtrain = sc_x.fit_transform(xtrain)  \n",
    "xtest = sc_x.transform(xtest) \n",
    "  \n",
    "print (xtrain[0:10, :]) "
   ]
  },
  {
   "cell_type": "code",
   "execution_count": 309,
   "metadata": {},
   "outputs": [
    {
     "name": "stderr",
     "output_type": "stream",
     "text": [
      "C:\\Users\\WELCOME\\Anaconda3\\lib\\site-packages\\sklearn\\linear_model\\logistic.py:433: FutureWarning: Default solver will be changed to 'lbfgs' in 0.22. Specify a solver to silence this warning.\n",
      "  FutureWarning)\n"
     ]
    },
    {
     "data": {
      "text/plain": [
       "LogisticRegression(C=1.0, class_weight=None, dual=False, fit_intercept=True,\n",
       "          intercept_scaling=1, max_iter=100, multi_class='warn',\n",
       "          n_jobs=None, penalty='l2', random_state=0, solver='warn',\n",
       "          tol=0.0001, verbose=0, warm_start=False)"
      ]
     },
     "execution_count": 309,
     "metadata": {},
     "output_type": "execute_result"
    }
   ],
   "source": [
    "from sklearn.linear_model import LogisticRegression \n",
    "classifier = LogisticRegression(random_state = 0) \n",
    "classifier.fit(xtrain, ytrain) "
   ]
  },
  {
   "cell_type": "code",
   "execution_count": 310,
   "metadata": {},
   "outputs": [],
   "source": [
    "y_pred = classifier.predict(xtest) "
   ]
  },
  {
   "cell_type": "code",
   "execution_count": 311,
   "metadata": {},
   "outputs": [
    {
     "name": "stdout",
     "output_type": "stream",
     "text": [
      "Confusion Matrix : \n",
      " [[90 22]\n",
      " [29 46]]\n"
     ]
    }
   ],
   "source": [
    "from sklearn.metrics import confusion_matrix \n",
    "cm = confusion_matrix(ytest, y_pred) \n",
    "  \n",
    "print (\"Confusion Matrix : \\n\", cm) "
   ]
  },
  {
   "cell_type": "code",
   "execution_count": 312,
   "metadata": {},
   "outputs": [
    {
     "name": "stdout",
     "output_type": "stream",
     "text": [
      "Accuracy :  0.7272727272727273\n"
     ]
    }
   ],
   "source": [
    "from sklearn.metrics import accuracy_score \n",
    "print (\"Accuracy : \", accuracy_score(ytest, y_pred)) "
   ]
  },
  {
   "cell_type": "markdown",
   "metadata": {},
   "source": [
    "Report on the models success and show what features are most important"
   ]
  },
  {
   "cell_type": "code",
   "execution_count": 321,
   "metadata": {},
   "outputs": [
    {
     "data": {
      "text/plain": [
       "<matplotlib.axes._subplots.AxesSubplot at 0x1dc44d95320>"
      ]
     },
     "execution_count": 321,
     "metadata": {},
     "output_type": "execute_result"
    },
    {
     "data": {
      "image/png": "[encoded data removed]",
      "text/plain": [
       "<Figure size 432x288 with 2 Axes>"
      ]
     },
     "metadata": {
      "needs_background": "light"
     },
     "output_type": "display_data"
    }
   ],
   "source": [
    "import seaborn as sns\n",
    "%matplotlib inline\n",
    "corr = dff1.corr()\n",
    "sns.heatmap(corr, \n",
    "        xticklabels=corr.columns,\n",
    "        yticklabels=corr.columns)"
   ]
  },
  {
   "cell_type": "code",
   "execution_count": 322,
   "metadata": {},
   "outputs": [
    {
     "data": {
      "text/html": [
       "<div>\n",
       "<style scoped>\n",
       "    .dataframe tbody tr th:only-of-type {\n",
       "        vertical-align: middle;\n",
       "    }\n",
       "\n",
       "    .dataframe tbody tr th {\n",
       "        vertical-align: top;\n",
       "    }\n",
       "\n",
       "    .dataframe thead th {\n",
       "        text-align: right;\n",
       "    }\n",
       "</style>\n",
       "<table border=\"1\" class=\"dataframe\">\n",
       "  <thead>\n",
       "    <tr style=\"text-align: right;\">\n",
       "      <th></th>\n",
       "      <th>orderState</th>\n",
       "      <th>transactionFailed</th>\n",
       "      <th>paymentMethodRegistrationFailure</th>\n",
       "      <th>paymentMethodType</th>\n",
       "      <th>paymentMethodProvider</th>\n",
       "      <th>paymentMethodIssuer</th>\n",
       "      <th>fraudulent</th>\n",
       "    </tr>\n",
       "  </thead>\n",
       "  <tbody>\n",
       "    <tr>\n",
       "      <th>orderState</th>\n",
       "      <td>1.000000</td>\n",
       "      <td>-0.079843</td>\n",
       "      <td>-0.005753</td>\n",
       "      <td>-0.015895</td>\n",
       "      <td>-0.127173</td>\n",
       "      <td>0.010437</td>\n",
       "      <td>0.056502</td>\n",
       "    </tr>\n",
       "    <tr>\n",
       "      <th>transactionFailed</th>\n",
       "      <td>-0.079843</td>\n",
       "      <td>1.000000</td>\n",
       "      <td>-0.001202</td>\n",
       "      <td>-0.042436</td>\n",
       "      <td>0.100362</td>\n",
       "      <td>-0.052553</td>\n",
       "      <td>-0.068354</td>\n",
       "    </tr>\n",
       "    <tr>\n",
       "      <th>paymentMethodRegistrationFailure</th>\n",
       "      <td>-0.005753</td>\n",
       "      <td>-0.001202</td>\n",
       "      <td>1.000000</td>\n",
       "      <td>-0.035863</td>\n",
       "      <td>-0.008115</td>\n",
       "      <td>0.139921</td>\n",
       "      <td>0.030605</td>\n",
       "    </tr>\n",
       "    <tr>\n",
       "      <th>paymentMethodType</th>\n",
       "      <td>-0.015895</td>\n",
       "      <td>-0.042436</td>\n",
       "      <td>-0.035863</td>\n",
       "      <td>1.000000</td>\n",
       "      <td>-0.059081</td>\n",
       "      <td>-0.069347</td>\n",
       "      <td>-0.095241</td>\n",
       "    </tr>\n",
       "    <tr>\n",
       "      <th>paymentMethodProvider</th>\n",
       "      <td>-0.127173</td>\n",
       "      <td>0.100362</td>\n",
       "      <td>-0.008115</td>\n",
       "      <td>-0.059081</td>\n",
       "      <td>1.000000</td>\n",
       "      <td>0.020309</td>\n",
       "      <td>-0.081510</td>\n",
       "    </tr>\n",
       "    <tr>\n",
       "      <th>paymentMethodIssuer</th>\n",
       "      <td>0.010437</td>\n",
       "      <td>-0.052553</td>\n",
       "      <td>0.139921</td>\n",
       "      <td>-0.069347</td>\n",
       "      <td>0.020309</td>\n",
       "      <td>1.000000</td>\n",
       "      <td>0.107893</td>\n",
       "    </tr>\n",
       "    <tr>\n",
       "      <th>fraudulent</th>\n",
       "      <td>0.056502</td>\n",
       "      <td>-0.068354</td>\n",
       "      <td>0.030605</td>\n",
       "      <td>-0.095241</td>\n",
       "      <td>-0.081510</td>\n",
       "      <td>0.107893</td>\n",
       "      <td>1.000000</td>\n",
       "    </tr>\n",
       "  </tbody>\n",
       "</table>\n",
       "</div>"
      ],
      "text/plain": [
       "                                  orderState  transactionFailed  \\\n",
       "orderState                          1.000000          -0.079843   \n",
       "transactionFailed                  -0.079843           1.000000   \n",
       "paymentMethodRegistrationFailure   -0.005753          -0.001202   \n",
       "paymentMethodType                  -0.015895          -0.042436   \n",
       "paymentMethodProvider              -0.127173           0.100362   \n",
       "paymentMethodIssuer                 0.010437          -0.052553   \n",
       "fraudulent                          0.056502          -0.068354   \n",
       "\n",
       "                                  paymentMethodRegistrationFailure  \\\n",
       "orderState                                               -0.005753   \n",
       "transactionFailed                                        -0.001202   \n",
       "paymentMethodRegistrationFailure                          1.000000   \n",
       "paymentMethodType                                        -0.035863   \n",
       "paymentMethodProvider                                    -0.008115   \n",
       "paymentMethodIssuer                                       0.139921   \n",
       "fraudulent                                                0.030605   \n",
       "\n",
       "                                  paymentMethodType  paymentMethodProvider  \\\n",
       "orderState                                -0.015895              -0.127173   \n",
       "transactionFailed                         -0.042436               0.100362   \n",
       "paymentMethodRegistrationFailure          -0.035863              -0.008115   \n",
       "paymentMethodType                          1.000000              -0.059081   \n",
       "paymentMethodProvider                     -0.059081               1.000000   \n",
       "paymentMethodIssuer                       -0.069347               0.020309   \n",
       "fraudulent                                -0.095241              -0.081510   \n",
       "\n",
       "                                  paymentMethodIssuer  fraudulent  \n",
       "orderState                                   0.010437    0.056502  \n",
       "transactionFailed                           -0.052553   -0.068354  \n",
       "paymentMethodRegistrationFailure             0.139921    0.030605  \n",
       "paymentMethodType                           -0.069347   -0.095241  \n",
       "paymentMethodProvider                        0.020309   -0.081510  \n",
       "paymentMethodIssuer                          1.000000    0.107893  \n",
       "fraudulent                                   0.107893    1.000000  "
      ]
     },
     "execution_count": 322,
     "metadata": {},
     "output_type": "execute_result"
    }
   ],
   "source": [
    "dff1.corr()"
   ]
  },
  {
   "cell_type": "markdown",
   "metadata": {},
   "source": [
    "The model accuracy was 72.7%, it means 72.7% times model can predit the user profile is fraudulent or not "
   ]
  },
  {
   "cell_type": "markdown",
   "metadata": {},
   "source": [
    "According to correlation heatmap and correlation matrix, PaymentMethodIssuer, PaymentMethodProvider, PaymentMethodType pays a crusuial role to find weather the profile is fraudulent or not."
   ]
  },
  {
   "cell_type": "code",
   "execution_count": null,
   "metadata": {},
   "outputs": [],
   "source": []
  }
 ],
 "metadata": {
  "kernelspec": {
   "display_name": "Python 3",
   "language": "python",
   "name": "python3"
  },
  "language_info": {
   "codemirror_mode": {
    "name": "ipython",
    "version": 3
   },
   "file_extension": ".py",
   "mimetype": "text/x-python",
   "name": "python",
   "nbconvert_exporter": "python",
   "pygments_lexer": "ipython3",
   "version": "3.7.3"
  }
 },
 "nbformat": 4,
 "nbformat_minor": 2
}
